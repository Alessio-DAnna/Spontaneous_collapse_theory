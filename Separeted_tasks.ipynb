{
 "cells": [
  {
   "cell_type": "code",
   "execution_count": 1,
   "metadata": {},
   "outputs": [],
   "source": [
    "'''Import packages'''\n",
    "from qiskit import QuantumCircuit, QuantumRegister, ClassicalRegister\n",
    "from qiskit import execute\n",
    "from qiskit.quantum_info import Pauli, SparsePauliOp\n",
    "from qiskit.quantum_info import Statevector\n",
    "from qiskit_algorithms import TimeEvolutionProblem\n",
    "from qiskit_algorithms.time_evolvers.trotterization import TrotterQRTE\n",
    "from qiskit.primitives import Estimator\n",
    "from qiskit import Aer\n",
    "\n",
    "import numpy as np\n",
    "import matplotlib.pyplot as plt\n",
    "import math"
   ]
  },
  {
   "cell_type": "code",
   "execution_count": 2,
   "metadata": {},
   "outputs": [],
   "source": [
    "from IPython.core.interactiveshell import InteractiveShell\n",
    "InteractiveShell.ast_node_interactivity = 'all'"
   ]
  },
  {
   "cell_type": "markdown",
   "metadata": {},
   "source": [
    "### 1) Dynamic evolution a single spin-1/2 particle"
   ]
  },
  {
   "cell_type": "code",
   "execution_count": 47,
   "metadata": {},
   "outputs": [
    {
     "data": {
      "text/plain": [
       "'Create the initial state |0>'"
      ]
     },
     "execution_count": 47,
     "metadata": {},
     "output_type": "execute_result"
    },
    {
     "data": {
      "text/plain": [
       "'Define the hamiltonian'"
      ]
     },
     "execution_count": 47,
     "metadata": {},
     "output_type": "execute_result"
    },
    {
     "data": {
      "text/plain": [
       "'Define the observable and the estimator'"
      ]
     },
     "execution_count": 47,
     "metadata": {},
     "output_type": "execute_result"
    },
    {
     "data": {
      "text/plain": [
       "'Define the evolution problem'"
      ]
     },
     "execution_count": 47,
     "metadata": {},
     "output_type": "execute_result"
    },
    {
     "data": {
      "text/plain": [
       "'Evolve the system'"
      ]
     },
     "execution_count": 47,
     "metadata": {},
     "output_type": "execute_result"
    },
    {
     "data": {
      "text/plain": [
       "'Get the observable values'"
      ]
     },
     "execution_count": 47,
     "metadata": {},
     "output_type": "execute_result"
    },
    {
     "data": {
      "text/plain": [
       "'Visualize the time evolution of the observable'"
      ]
     },
     "execution_count": 47,
     "metadata": {},
     "output_type": "execute_result"
    },
    {
     "data": {
      "text/plain": [
       "[<matplotlib.lines.Line2D at 0x18b7e25c190>]"
      ]
     },
     "execution_count": 47,
     "metadata": {},
     "output_type": "execute_result"
    },
    {
     "data": {
      "image/png": "[encoded data removed]",
      "text/plain": [
       "<Figure size 576x432 with 1 Axes>"
      ]
     },
     "metadata": {
      "needs_background": "light"
     },
     "output_type": "display_data"
    }
   ],
   "source": [
    "'''Create the initial state |0>'''\n",
    "qreg = QuantumRegister(size = 1)\n",
    "qcir = QuantumCircuit(qreg)\n",
    "\n",
    "'''Define the hamiltonian'''\n",
    "omega = 0.5\n",
    "hamiltonian = SparsePauliOp(data = \"X\", coeffs = -omega)\n",
    "\n",
    "'''Define the observable and the estimator'''\n",
    "obs = SparsePauliOp(data = \"Z\", coeffs = 0.5)\n",
    "estimator = Estimator()\n",
    "\n",
    "'''Define the evolution problem'''\n",
    "time = 8.0\n",
    "initial_state = qcir\n",
    "problem = TimeEvolutionProblem(hamiltonian,time,initial_state,aux_operators=[obs])\n",
    "\n",
    "'''Evolve the system'''\n",
    "num_timesteps = 100\n",
    "evolution = TrotterQRTE(estimator=estimator, num_timesteps=num_timesteps).evolve(problem)\n",
    "\n",
    "'''Get the observable values'''\n",
    "obs_values = np.array(evolution.observables)[:,:,0][:,0]\n",
    "\n",
    "'''Visualize the time evolution of the observable'''\n",
    "x_times = np.linspace(0,time,num=num_timesteps+1)\n",
    "fig = plt.figure(figsize=(8,6))\n",
    "plt.plot(x_times,obs_values,'o-')"
   ]
  },
  {
   "cell_type": "markdown",
   "metadata": {},
   "source": [
    "### 2) Dynamic evolution a single spin-1/2 particle with spontaneous collapse"
   ]
  },
  {
   "cell_type": "code",
   "execution_count": 62,
   "metadata": {},
   "outputs": [
    {
     "data": {
      "text/plain": [
       "'Define some variables'"
      ]
     },
     "execution_count": 62,
     "metadata": {},
     "output_type": "execute_result"
    },
    {
     "data": {
      "text/plain": [
       "'Define the collapse times'"
      ]
     },
     "execution_count": 62,
     "metadata": {},
     "output_type": "execute_result"
    },
    {
     "name": "stdout",
     "output_type": "stream",
     "text": [
      "collapse_times: [2 5 1 1 3 3 1 5 2 1 2 4 4 3 2 2 1 2 1 2 2]\n",
      "collapse_timesteps: [12 30  6  6 18 18  6 30 12  6 12 24 24 18 12 12  6 12  6 12 12]\n",
      "x_collapses: [2, 7, 8, 9, 12, 15, 16, 21, 23, 24, 26, 30, 34, 37, 39, 41, 42, 44, 45, 47, 49]\n"
     ]
    },
    {
     "data": {
      "text/plain": [
       "'Define the dynamic'"
      ]
     },
     "execution_count": 62,
     "metadata": {},
     "output_type": "execute_result"
    }
   ],
   "source": [
    "#initial_state, hamiltonian, observable and estimator are the same of the prevoius problem\n",
    "'''Define some variables'''\n",
    "initial_state = QuantumCircuit(1)\n",
    "time = 50\n",
    "num_timesteps = 300\n",
    "lam = 2\n",
    "\n",
    "'''Define the collapse times'''\n",
    "def _collapse_times(time, lam):\n",
    "    t_run = 0\n",
    "    collapse_array = []\n",
    "    while t_run <= time:\n",
    "        t = np.random.poisson(lam,size=1)\n",
    "        if t == 0:\n",
    "            continue\n",
    "        t_run += t\n",
    "        if t_run <= time:\n",
    "            collapse_array.append(t)\n",
    "    \n",
    "    return np.array(collapse_array)[:,0]\n",
    "\n",
    "collapse_times = _collapse_times(time,lam)\n",
    "collapse_timesteps = collapse_times*int(num_timesteps/time)\n",
    "print(\"collapse_times:\", collapse_times)\n",
    "print(\"collapse_timesteps:\", collapse_timesteps)\n",
    "\n",
    "x_collapses = []\n",
    "for i in range(len(collapse_times)):\n",
    "    if i == 0:\n",
    "        x_collapses.append(collapse_times[0])\n",
    "    else:\n",
    "        x_collapses.append(x_collapses[-1] + collapse_times[i])\n",
    "print(\"x_collapses:\", x_collapses)\n",
    "\n",
    "\n",
    "\n",
    "'''Define the dynamic'''\n",
    "\n",
    "def QRTE_evolution(hamiltonian, t_col, initial_state, n_timesteps, obs):\n",
    "    problem = TimeEvolutionProblem(hamiltonian, t_col, initial_state, aux_operators = [obs])\n",
    "    evolution = TrotterQRTE(estimator = estimator, num_timesteps = n_timesteps).evolve(problem)\n",
    "    obs_values = np.array(evolution.observables)[:,:,0][:,0]\n",
    "\n",
    "    return evolution, obs_values\n",
    "\n",
    "def dynamic(hamiltonian, initial_state, t_col, n_timesteps, obs):\n",
    "    evolution, obs_values = QRTE_evolution(hamiltonian, t_col, initial_state, n_timesteps, obs)\n",
    "    state_pre = evolution.evolved_state\n",
    "\n",
    "    #Get the state before the collapse as a vector\n",
    "    backend = Aer.get_backend(\"statevector_simulator\")\n",
    "    state = execute(state_pre, backend).result().get_statevector(state_pre)\n",
    "\n",
    "    #Collapse\n",
    "    x = np.random.uniform(0,1)\n",
    "    if x <= np.abs(state[0])**2:\n",
    "        return 0, obs_values\n",
    "    else:\n",
    "        return 1, obs_values\n",
    "\n",
    "    \n",
    "def experiment(hamiltonian, initial_state, time, num_timesteps, collapse_times, collapse_timesteps, obs):\n",
    "    counter_0 = 0\n",
    "    counter_1 = 0\n",
    "\n",
    "    all_obs_values = []\n",
    "    collapse_values = []\n",
    "\n",
    "    for i in range(len(collapse_times)):\n",
    "        spin_state, obs_values = dynamic(hamiltonian, initial_state, collapse_times[i], collapse_timesteps[i], obs)\n",
    "        if spin_state == 0:\n",
    "            counter_0 += 1\n",
    "            initial_state = QuantumCircuit(1)\n",
    "            collapse_values.append(0.5)\n",
    "        else:\n",
    "            counter_1 += 1\n",
    "            initial_state = QuantumCircuit(1)\n",
    "            initial_state.x(0)\n",
    "            initial_state = initial_state\n",
    "            collapse_values.append(-0.5)\n",
    "\n",
    "        for j in range(len(obs_values)):\n",
    "            all_obs_values.append(obs_values[j])\n",
    "        \n",
    "    if np.sum(collapse_times) != time:\n",
    "        time_fin = time - np.sum(collapse_times)\n",
    "        timesteps_fin = num_timesteps - np.sum(collapse_timesteps)\n",
    "        evolution_trash, obs_values = QRTE_evolution(hamiltonian, time_fin, initial_state, timesteps_fin, obs)\n",
    "        for j in range(len(obs_values)):\n",
    "            all_obs_values.append(obs_values[j])\n",
    "    \n",
    "    return all_obs_values, counter_0, counter_1, collapse_values\n",
    "\n",
    "\n",
    "def visualization(all_obs_values, time, num_timesteps, collapse_values):\n",
    "    x_times = np.linspace(0,time,num=num_timesteps+len(collapse_times)+1)\n",
    "    fig = plt.figure(figsize=(12,6))\n",
    "    plt.plot(x_times,all_obs_values,'-', alpha = 0.5)\n",
    "    plt.plot(x_collapses, collapse_values, 'o', c = 'r')\n"
   ]
  },
  {
   "cell_type": "code",
   "execution_count": 63,
   "metadata": {},
   "outputs": [],
   "source": [
    "y, counter_0, counter_1, collapse_values = experiment(hamiltonian, initial_state, time, num_timesteps, collapse_times, collapse_timesteps, obs)"
   ]
  },
  {
   "cell_type": "code",
   "execution_count": 64,
   "metadata": {},
   "outputs": [
    {
     "data": {
      "image/png": "[encoded data removed]",
      "text/plain": [
       "<Figure size 864x432 with 1 Axes>"
      ]
     },
     "metadata": {
      "needs_background": "light"
     },
     "output_type": "display_data"
    }
   ],
   "source": [
    "visualization(y, time, num_timesteps, collapse_values)"
   ]
  },
  {
   "cell_type": "code",
   "execution_count": 65,
   "metadata": {},
   "outputs": [
    {
     "data": {
      "text/plain": [
       "11"
      ]
     },
     "execution_count": 65,
     "metadata": {},
     "output_type": "execute_result"
    },
    {
     "data": {
      "text/plain": [
       "10"
      ]
     },
     "execution_count": 65,
     "metadata": {},
     "output_type": "execute_result"
    }
   ],
   "source": [
    "counter_0\n",
    "counter_1"
   ]
  },
  {
   "cell_type": "code",
   "execution_count": null,
   "metadata": {},
   "outputs": [],
   "source": []
  }
 ],
 "metadata": {
  "kernelspec": {
   "display_name": "Python 3",
   "language": "python",
   "name": "python3"
  },
  "language_info": {
   "codemirror_mode": {
    "name": "ipython",
    "version": 3
   },
   "file_extension": ".py",
   "mimetype": "text/x-python",
   "name": "python",
   "nbconvert_exporter": "python",
   "pygments_lexer": "ipython3",
   "version": "3.9.0"
  }
 },
 "nbformat": 4,
 "nbformat_minor": 2
}
